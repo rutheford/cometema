{
 "cells": [
  {
   "cell_type": "code",
   "execution_count": 1,
   "metadata": {},
   "outputs": [],
   "source": [
    "import numpy as np\n",
    "import matplotlib.pyplot as plot\n",
    "import networkx as nx\n",
    "import graphtml"
   ]
  },
  {
   "cell_type": "code",
   "execution_count": 2,
   "metadata": {},
   "outputs": [
    {
     "name": "stdout",
     "output_type": "stream",
     "text": [
      "1 Francisco de Assis\n",
      "2 Mulheres do/no Evangelho\n",
      "3 Música\n",
      "5 Evolução em Dois Mundos\n",
      "6 Mediunidade / Mediunidade e vida\n",
      "7 Espiritismo no Brasil / História do Espiritismo no Brasil\n",
      "8 Jesus / Jesus Guia e Modelo\n",
      "9 História de Lucas / São Lucas\n",
      "10 Arte e Espiritismo / Espiritismo na Arte\n",
      "11 A Caminho da Luz\n",
      "12 Cristianismo Primitivo\n",
      "13 Romances de Emmanuel\n",
      "15 Bíblia\n",
      "16 Os Dez Mandamentos\n",
      "17 Há Dois Mil Anos...\n",
      "18 Ave, Cristo!\n",
      "19 Renúncia\n",
      "20 Paulo e Estêvão\n",
      "21 Natureza e preservação ambiental\n",
      "22 O mundo atual\n",
      "23 Doutrina Espírita tríplice aspecto\n",
      "24 História do Espiritismo\n",
      "25 Espiritismo no Brasil e no Mundo\n",
      "26 Mulheres na História do Espiritismo\n",
      "28 Brasil\n",
      "30 Chico Xavier\n",
      "31 A vida no mundo dos Espíritos\n",
      "32 Livro Nosso Lar\n",
      "34 Ser espírita\n"
     ]
    }
   ],
   "source": [
    "# Load labels file\n",
    "with open(\"labels.txt\") as f:\n",
    "    labels = f.readlines()\n",
    "labels = [x.strip() for x in labels]\n",
    "\n",
    "# Create graph and load edges\n",
    "graph = nx.Graph()\n",
    "\n",
    "for i, l in enumerate(labels):\n",
    "    graph.add_node(int(i+1), name=l)\n",
    "\n",
    "graph.add_edges_from(np.loadtxt('pairs.txt', dtype=int))\n",
    "\n",
    "# Remove some nodes and edges\n",
    "graph.remove_nodes_from([4, 14, 27, 29, 33])\n",
    "graph.remove_edges_from([(12,26), (20,26), (26,31), (17,26)])\n",
    "\n",
    "# Print names\n",
    "for n in graph.nodes(data='name'):\n",
    "    print(str(n[0])+' '+n[1])"
   ]
  },
  {
   "cell_type": "code",
   "execution_count": 3,
   "metadata": {
    "scrolled": false
   },
   "outputs": [
    {
     "name": "stdout",
     "output_type": "stream",
     "text": [
      "Bíblia: 16\n",
      "Mediunidade / Mediunidade e vida: 15\n",
      "Ser espírita: 15\n",
      "Jesus / Jesus Guia e Modelo: 14\n",
      "O mundo atual: 14\n",
      "História do Espiritismo: 14\n",
      "Chico Xavier: 14\n",
      "Cristianismo Primitivo: 13\n",
      "Espiritismo no Brasil / História do Espiritismo no Brasil: 12\n",
      "Romances de Emmanuel: 12\n",
      "Espiritismo no Brasil e no Mundo: 12\n",
      "Mulheres do/no Evangelho: 11\n",
      "A Caminho da Luz: 10\n",
      "Mulheres na História do Espiritismo: 10\n",
      "Brasil: 10\n",
      "Livro Nosso Lar: 9\n",
      "Arte e Espiritismo / Espiritismo na Arte: 8\n",
      "Doutrina Espírita tríplice aspecto: 7\n",
      "Francisco de Assis: 6\n",
      "Renúncia: 6\n",
      "Paulo e Estêvão: 6\n",
      "A vida no mundo dos Espíritos: 6\n",
      "Evolução em Dois Mundos: 5\n",
      "História de Lucas / São Lucas: 5\n",
      "Os Dez Mandamentos: 5\n",
      "Há Dois Mil Anos...: 5\n",
      "Ave, Cristo!: 5\n",
      "Natureza e preservação ambiental: 4\n",
      "Música: 1\n"
     ]
    }
   ],
   "source": [
    "# Count number of connections\n",
    "for n in sorted(graph, key=graph.degree, reverse=True):\n",
    "    print(labels[n-1] +': '+ str(graph.degree[n]))"
   ]
  },
  {
   "cell_type": "code",
   "execution_count": 4,
   "metadata": {
    "scrolled": true
   },
   "outputs": [],
   "source": [
    "graphtml.write_page(graph)"
   ]
  }
 ],
 "metadata": {
  "kernelspec": {
   "display_name": "Python 2",
   "language": "python",
   "name": "python2"
  },
  "language_info": {
   "codemirror_mode": {
    "name": "ipython",
    "version": 2
   },
   "file_extension": ".py",
   "mimetype": "text/x-python",
   "name": "python",
   "nbconvert_exporter": "python",
   "pygments_lexer": "ipython2",
   "version": "2.7.15"
  }
 },
 "nbformat": 4,
 "nbformat_minor": 2
}
